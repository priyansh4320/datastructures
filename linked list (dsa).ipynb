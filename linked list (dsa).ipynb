{
 "cells": [
  {
   "cell_type": "markdown",
   "id": "cbec410b",
   "metadata": {},
   "source": [
    "# linked list (dsa)"
   ]
  },
  {
   "cell_type": "markdown",
   "id": "7692826c",
   "metadata": {},
   "source": [
    "## LL Traversal\n"
   ]
  },
  {
   "cell_type": "code",
   "execution_count": 1,
   "id": "2a0ee7cf",
   "metadata": {},
   "outputs": [
    {
     "name": "stdout",
     "output_type": "stream",
     "text": [
      "1st node\n",
      "2nd node\n",
      "3\n",
      "4th node\n"
     ]
    }
   ],
   "source": [
    "class node:\n",
    "    def __init__(self,data):\n",
    "        self.data = data\n",
    "        self.next = None\n",
    "        pass\n",
    "\n",
    "    pass\n",
    "\n",
    "class link_traversal:\n",
    "    def __init__(self):\n",
    "        self.head = None\n",
    "        pass\n",
    "        \n",
    "    def listprint(self):\n",
    "        printnode =  self.head\n",
    "        while printnode != None:\n",
    "            print(printnode.data)\n",
    "            printnode = printnode.next\n",
    "        pass\n",
    "        \n",
    "\n",
    "    pass\n",
    "\n",
    "l1= link_traversal()\n",
    "l1.head = node(\"1st node\")\n",
    "n2 = node(\"2nd node\")\n",
    "n3 = node(3)\n",
    "n4 = node(\"4th node\")\n",
    "\n",
    "l1.head.next = n2\n",
    "n2.next = n3\n",
    "n3.next = n4\n",
    "\n",
    "l1.listprint()\n",
    "        "
   ]
  },
  {
   "cell_type": "markdown",
   "id": "47354500",
   "metadata": {},
   "source": [
    "# new node insertion(end, start, middle)"
   ]
  },
  {
   "cell_type": "code",
   "execution_count": 7,
   "id": "97fe82d7",
   "metadata": {},
   "outputs": [
    {
     "name": "stdout",
     "output_type": "stream",
     "text": [
      "original list\n",
      "\n",
      "head priyanshu  ---> node 2  ---> node 3  ---> node 4  ---> \n",
      " updated list\n",
      "\n",
      "insert_at_start  ---> head priyanshu  ---> node 2  ---> insert_at_mid  ---> node 3  ---> node 4  ---> insert_at_end  ---> "
     ]
    }
   ],
   "source": [
    "class list_insertion:\n",
    "    def __init__(self):\n",
    "        self.head = None\n",
    "        pass\n",
    "    #insertion at start\n",
    "    def atstart(self,data):\n",
    "        self.data = data\n",
    "        newnode =  node(self.data)\n",
    "        \n",
    "        #set head as newnode\n",
    "        newnode.next = self.head\n",
    "        self.head = newnode\n",
    "        pass\n",
    "    \n",
    "    def atmid(self,data,atnode): \n",
    "        #create newnode\n",
    "        self.data = data\n",
    "        newnode = node(self.data)\n",
    "        if atnode.data == None :\n",
    "            print(\"there is no node.\")\n",
    "        \n",
    "        #set atnode.next (nextnode of atnode as nextnode of newnode)\n",
    "        newnode.next = atnode.next\n",
    "        \n",
    "        #now nextnode of atnode as newnode\n",
    "        atnode.next = newnode\n",
    "        pass\n",
    "    \n",
    "    def atend(self,data):\n",
    "        self.data = data\n",
    "        newnode = node(self.data)\n",
    "        \n",
    "        #traverse to last node\n",
    "        current_node = self.head\n",
    "        while (current_node.next) :\n",
    "            current_node = current_node.next\n",
    "        \n",
    "        #set newnode as nextnode of lastnode\n",
    "        current_node.next = newnode\n",
    "        pass\n",
    "\n",
    "    def traverse(self):\n",
    "        printnode = self.head\n",
    "        while printnode != None:\n",
    "            print(printnode.data,\" --->\", end=\" \")\n",
    "            printnode = printnode.next\n",
    "            pass\n",
    "    pass\n",
    "\n",
    "l2 = list_insertion()\n",
    "l2.head = node(\"head priyanshu\")\n",
    "n2 = node(\"node 2\")\n",
    "n3 = node(\"node 3\")\n",
    "n4 = node(\"node 4\")\n",
    "\n",
    "l2.head.next = n2\n",
    "n2.next = n3\n",
    "n3.next = n4\n",
    "\n",
    "print(\"original list\\n\")\n",
    "l2.traverse()\n",
    "\n",
    "l2.atstart(\"insert_at_start\")\n",
    "\n",
    "l2.atmid(\"insert_at_mid\",n2)\n",
    "\n",
    "l2.atend(\"insert_at_end\")\n",
    "\n",
    "print(\"\\n updated list\\n\")\n",
    "l2.traverse()\n"
   ]
  },
  {
   "cell_type": "markdown",
   "id": "936ead28",
   "metadata": {},
   "source": [
    "# LL REMOVE NODE (start, end , mid):\n"
   ]
  },
  {
   "cell_type": "code",
   "execution_count": null,
   "id": "96c3fc72",
   "metadata": {},
   "outputs": [],
   "source": []
  }
 ],
 "metadata": {
  "kernelspec": {
   "display_name": "Python 3 (ipykernel)",
   "language": "python",
   "name": "python3"
  },
  "language_info": {
   "codemirror_mode": {
    "name": "ipython",
    "version": 3
   },
   "file_extension": ".py",
   "mimetype": "text/x-python",
   "name": "python",
   "nbconvert_exporter": "python",
   "pygments_lexer": "ipython3",
   "version": "3.9.12"
  }
 },
 "nbformat": 4,
 "nbformat_minor": 5
}
