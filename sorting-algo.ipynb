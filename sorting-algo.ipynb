{
 "cells": [
  {
   "cell_type": "markdown",
   "id": "385db3dc",
   "metadata": {},
   "source": [
    "# sorting algorithms"
   ]
  },
  {
   "cell_type": "markdown",
   "id": "48f26075",
   "metadata": {},
   "source": [
    "## insertion sort"
   ]
  },
  {
   "cell_type": "code",
   "execution_count": null,
   "id": "d1237204",
   "metadata": {},
   "outputs": [],
   "source": [
    "def insertion(arr):\n",
    "      for i in range(1, len(arr)):\n",
    "  \n",
    "        key = arr[i]\n",
    "  \n",
    "        j = i-1\n",
    "        while j >= 0 and key < arr[j] :\n",
    "                arr[j + 1] = arr[j]\n",
    "                j -= 1\n",
    "        arr[j + 1] = key\n",
    "\n",
    "arr=[1,9,3,7,4,2,0,5]\n",
    "insertion(arr)\n",
    "print(arr)"
   ]
  },
  {
   "cell_type": "markdown",
   "id": "f996a0df",
   "metadata": {},
   "source": [
    "## selection sort"
   ]
  },
  {
   "cell_type": "code",
   "execution_count": null,
   "id": "d53ffc1d",
   "metadata": {},
   "outputs": [],
   "source": [
    "def selection(arr):\n",
    "    l = len(arr)\n",
    "\n",
    "    for i in range(l):\n",
    "        min = i \n",
    "        for j in range(i+1 , l):\n",
    "            if arr[min] > arr[j]:\n",
    "                min = j\n",
    "        arr[i] , arr[min] = arr[min] , arr[i]\n",
    "\n",
    "arr=[1,9,3,7,4,2,0,5]\n",
    "selection(arr)\n",
    "print(arr)"
   ]
  },
  {
   "cell_type": "code",
   "execution_count": null,
   "id": "cdcd77b0",
   "metadata": {},
   "outputs": [],
   "source": []
  },
  {
   "cell_type": "markdown",
   "id": "7e32f765",
   "metadata": {},
   "source": [
    "## bubble sort"
   ]
  },
  {
   "cell_type": "code",
   "execution_count": 2,
   "id": "0e9c6241",
   "metadata": {},
   "outputs": [
    {
     "name": "stdout",
     "output_type": "stream",
     "text": [
      "[0, 1, 2, 3, 4, 5, 7, 9]\n"
     ]
    }
   ],
   "source": [
    "def bubble(arr):\n",
    "    l= len(arr)\n",
    "    \n",
    "    for i in range(l):\n",
    "        for j in range(0 , l - i - 1):\n",
    "            if arr[j] > arr[j+1]:\n",
    "                arr[j] , arr[j+1] = arr[j+1] , arr[j]\n",
    "                \n",
    "\n",
    "arr=[1,9,3,7,4,2,0,5]\n",
    "bubble(arr)\n",
    "print(arr)"
   ]
  },
  {
   "cell_type": "markdown",
   "id": "8239de1a",
   "metadata": {},
   "source": [
    "## quick sort"
   ]
  },
  {
   "cell_type": "code",
   "execution_count": 3,
   "id": "8e44cb04",
   "metadata": {},
   "outputs": [
    {
     "name": "stdout",
     "output_type": "stream",
     "text": [
      "[9, 1, 0, 7, 3, 2, 4, 5]\n"
     ]
    }
   ],
   "source": [
    "def partition(arr , left , right):\n",
    "    if left <= right:\n",
    "        pivot = arr[0]\n",
    "        left += 1\n",
    "    \n",
    "    while left <= right:    \n",
    "        if arr[left] > pivot and arr[right] < pivot:\n",
    "            arr[left] , arr[right] = arr[right] , arr[left]\n",
    "        \n",
    "        elif arr[left] < pivot:\n",
    "            left += 1\n",
    "        \n",
    "        elif arr[right] > pivot:\n",
    "            right -= 1\n",
    "    \n",
    "    arr[right] , arr[0] = arr[0] , arr[right]\n",
    "    return right\n",
    "\n",
    "\n",
    "def quick(arr , left , right):\n",
    "    if left < right:\n",
    "        pi = partition(arr,left,right)\n",
    "        \n",
    "        quick(arr,left,pi-1)\n",
    "        \n",
    "        quick(arr,pi+1,right)\n",
    "        \n",
    "arr=[1,9,3,7,4,2,0,5]\n",
    "\n",
    "quick(arr,0, len(arr)-1)\n",
    "print(arr)\n",
    "        \n",
    "        "
   ]
  },
  {
   "cell_type": "markdown",
   "id": "f1beead5",
   "metadata": {},
   "source": [
    "## mergesort"
   ]
  },
  {
   "cell_type": "code",
   "execution_count": 2,
   "id": "f5b0ea95",
   "metadata": {},
   "outputs": [
    {
     "name": "stdout",
     "output_type": "stream",
     "text": [
      "[1, 2, 5, 9, 10, 11, 12, 44, 45]\n"
     ]
    }
   ],
   "source": [
    "def mergesort(arr):\n",
    "    if len(arr) > 1:\n",
    "        #set mid\n",
    "        \n",
    "        mid = len(arr) // 2\n",
    "        #split left array\n",
    "        left = arr[:mid]\n",
    "        #split right array\n",
    "        right = arr[mid:]\n",
    "\n",
    "        #recusion until condition\n",
    "        mergesort(left)\n",
    "        mergesort(right)\n",
    "\n",
    "        #keep an empty sorted array as result\n",
    "        \n",
    "        #set pointers for left , right and result\n",
    "        i = j = k = 0\n",
    "        while i < len(left) and j < len(right):\n",
    "            if left[i] <= right[j]:\n",
    "                arr[k] = left[i]\n",
    "                i += 1\n",
    "            else:\n",
    "                arr[k] = right[j]\n",
    "                j += 1\n",
    "\n",
    "            k += 1 \n",
    "\n",
    "        #check remaining elements in array\n",
    "        while  i in range(len(left)):\n",
    "            arr[k]  = left[i]\n",
    "            i += 1\n",
    "            k += 1\n",
    "        \n",
    "        while  j in range(len(right)):\n",
    "            arr[k]  = right[j]\n",
    "            j += 1\n",
    "            k += 1\n",
    "        \n",
    "\n",
    "\n",
    "arr = [12,1,2,45,44,11,10,9,5]\n",
    "mergesort(arr)\n",
    "print(arr)"
   ]
  }
 ],
 "metadata": {
  "kernelspec": {
   "display_name": "Python 3 (ipykernel)",
   "language": "python",
   "name": "python3"
  },
  "language_info": {
   "codemirror_mode": {
    "name": "ipython",
    "version": 3
   },
   "file_extension": ".py",
   "mimetype": "text/x-python",
   "name": "python",
   "nbconvert_exporter": "python",
   "pygments_lexer": "ipython3",
   "version": "3.9.12"
  }
 },
 "nbformat": 4,
 "nbformat_minor": 5
}
